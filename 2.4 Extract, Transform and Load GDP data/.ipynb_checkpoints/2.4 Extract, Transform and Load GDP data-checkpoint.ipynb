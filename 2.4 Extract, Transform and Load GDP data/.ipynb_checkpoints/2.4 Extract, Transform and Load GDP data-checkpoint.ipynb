{
 "cells": [
  {
   "cell_type": "code",
   "execution_count": 2,
   "id": "a5d3938f-33b9-46e6-8a4f-1f741aa369f2",
   "metadata": {
    "tags": []
   },
   "outputs": [
    {
     "name": "stdout",
     "output_type": "stream",
     "text": [
      "          Country  GDP_USD_billions\n",
      "0   United States          26854.60\n",
      "1           China          19373.59\n",
      "2           Japan           4409.74\n",
      "3         Germany           4308.85\n",
      "4           India           3736.88\n",
      "..            ...               ...\n",
      "64          Kenya            118.13\n",
      "65         Angola            117.88\n",
      "66           Oman            104.90\n",
      "67      Guatemala            102.31\n",
      "68       Bulgaria            100.64\n",
      "\n",
      "[69 rows x 2 columns]\n"
     ]
    }
   ],
   "source": [
    "# Kode untuk operasi ETL pada data Country-GDP\n",
    "\n",
    "from bs4 import BeautifulSoup\n",
    "import requests\n",
    "import pandas as pd\n",
    "import numpy as np\n",
    "import sqlite3\n",
    "from datetime import datetime\n",
    "\n",
    "# Ekstraksi data dari halaman web menjadi DataFrame\n",
    "def extract(url, table_attribs):\n",
    "    page = requests.get(url).text\n",
    "    data = BeautifulSoup(page, 'html.parser')\n",
    "    df = pd.DataFrame(columns=table_attribs)\n",
    "    rows = data.find_all('tbody')[2].find_all('tr')\n",
    "    for row in rows:\n",
    "        col = row.find_all('td')\n",
    "        if len(col) != 0 and col[0].find('a') is not None and '—' not in col[2]:\n",
    "            data_dict = {\"Country\": col[0].a.contents[0], \"GDP_USD_millions\": col[2].contents[0]}\n",
    "            df = pd.concat([df, pd.DataFrame(data_dict, index=[0])], ignore_index=True)\n",
    "    return df\n",
    "\n",
    "# Transformasi data\n",
    "def transform(df):\n",
    "    GDP_list = [float(\"\".join(x.split(','))) for x in df[\"GDP_USD_millions\"].tolist()]\n",
    "    GDP_list = [np.round(x / 1000, 2) for x in GDP_list]\n",
    "    df[\"GDP_USD_billions\"] = GDP_list\n",
    "    df.drop(columns=[\"GDP_USD_millions\"], inplace=True)\n",
    "    return df\n",
    "\n",
    "# Simpan DataFrame ke file CSV\n",
    "def load_to_csv(df, csv_path):\n",
    "    df.to_csv(csv_path)\n",
    "\n",
    "# Simpan DataFrame ke database SQLite\n",
    "def load_to_db(df, sql_connection, table_name):\n",
    "    df.to_sql(table_name, sql_connection, if_exists='replace', index=False)\n",
    "\n",
    "# Jalankan query pada database\n",
    "def run_query(query_statement, sql_connection):\n",
    "    query_output = pd.read_sql(query_statement, sql_connection)\n",
    "    print(query_output)\n",
    "\n",
    "# Fungsi untuk log progres\n",
    "def log_progress(message):\n",
    "    timestamp = datetime.now().strftime('%Y-%h-%d-%H:%M:%S')\n",
    "    with open(\"./etl_project_log.txt\", \"a\") as f:\n",
    "        f.write(f\"{timestamp} : {message}\\n\")\n",
    "\n",
    "# Konfigurasi awal dan eksekusi ETL\n",
    "url = 'https://web.archive.org/web/20230902185326/https://en.wikipedia.org/wiki/List_of_countries_by_GDP_%28nominal%29'\n",
    "table_attribs = [\"Country\", \"GDP_USD_millions\"]\n",
    "csv_path = './Countries_by_GDP.csv'\n",
    "db_name = 'World_Economies.db'\n",
    "table_name = 'Countries_by_GDP'\n",
    "\n",
    "log_progress('ETL process started')\n",
    "df = extract(url, table_attribs)\n",
    "log_progress('Data extraction complete')\n",
    "df = transform(df)\n",
    "log_progress('Data transformation complete')\n",
    "load_to_csv(df, csv_path)\n",
    "log_progress('Data saved to CSV')\n",
    "sql_connection = sqlite3.connect(db_name)\n",
    "load_to_db(df, sql_connection, table_name)\n",
    "log_progress('Data loaded to Database')\n",
    "run_query(f\"SELECT * from {table_name} WHERE GDP_USD_billions >= 100\", sql_connection)\n",
    "log_progress('Process complete')\n",
    "sql_connection.close()\n"
   ]
  },
  {
   "cell_type": "code",
   "execution_count": null,
   "id": "3edb7f8c-ba3a-43fa-a6fe-39733e7c8a1f",
   "metadata": {},
   "outputs": [],
   "source": []
  }
 ],
 "metadata": {
  "kernelspec": {
   "display_name": "Python 3 (ipykernel)",
   "language": "python",
   "name": "python3"
  },
  "language_info": {
   "codemirror_mode": {
    "name": "ipython",
    "version": 3
   },
   "file_extension": ".py",
   "mimetype": "text/x-python",
   "name": "python",
   "nbconvert_exporter": "python",
   "pygments_lexer": "ipython3",
   "version": "3.11.5"
  }
 },
 "nbformat": 4,
 "nbformat_minor": 5
}
